{
 "cells": [
  {
   "cell_type": "code",
   "execution_count": 9,
   "id": "8c70daf5",
   "metadata": {},
   "outputs": [
    {
     "name": "stdout",
     "output_type": "stream",
     "text": [
      "select an operation :1/2/3/4: \n",
      "1. Addition\n",
      "2. Substraction\n",
      "3. multiplication\n",
      "4. Division\n",
      "enter  choise from 1/2/3/45\n",
      "number is invalid\n"
     ]
    }
   ],
   "source": [
    "#print the message for useer to select number.......\n",
    "\n",
    "print(\"select an operation :1/2/3/4: \")\n",
    "print(\"1. Addition\")\n",
    "print(\"2. Substraction\")\n",
    "print(\"3. multiplication\")\n",
    "print(\"4. Division\")\n",
    "choise = input(\"enter  choise from 1/2/3/4\")  #enter \n",
    "if choise in ('1','2','3','4'):\n",
    "    num1 = int(input(\"Enter First Number :\"))\n",
    "    num2 = int(input(\"Enter Second Number :\")) \n",
    "    \n",
    "    \n",
    "    if choise== '1':\n",
    "        print(num1,'+',num2,'=',(num1+num2))\n",
    "    \n",
    "    elif choise == '2':\n",
    "        print(num1,'-',num2,'=',(num1-num2))\n",
    "    elif choise == '3':\n",
    "        print(num1,'*',num2,'=',(num1*num2))\n",
    "    elif choise == '4':\n",
    "        print(num1,'/',num2,'=',(num1/num2))\n",
    "else:\n",
    "   print(\"number is invalid\")"
   ]
  },
  {
   "cell_type": "markdown",
   "id": "59df978c",
   "metadata": {},
   "source": []
  },
  {
   "cell_type": "code",
   "execution_count": null,
   "id": "a7f2f140",
   "metadata": {},
   "outputs": [],
   "source": []
  }
 ],
 "metadata": {
  "kernelspec": {
   "display_name": "Python 3 (ipykernel)",
   "language": "python",
   "name": "python3"
  },
  "language_info": {
   "codemirror_mode": {
    "name": "ipython",
    "version": 3
   },
   "file_extension": ".py",
   "mimetype": "text/x-python",
   "name": "python",
   "nbconvert_exporter": "python",
   "pygments_lexer": "ipython3",
   "version": "3.9.12"
  }
 },
 "nbformat": 4,
 "nbformat_minor": 5
}
