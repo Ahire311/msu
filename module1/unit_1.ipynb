{
 "cells": [
  {
   "cell_type": "markdown",
   "id": "59fe3d37",
   "metadata": {},
   "source": [
    "# NumPy - Numerical Python Library"
   ]
  },
  {
   "cell_type": "code",
   "execution_count": 1,
   "id": "5d970ab3",
   "metadata": {},
   "outputs": [],
   "source": [
    "# import NumPy Library\n",
    "import numpy as np   #import packages from library"
   ]
  },
  {
   "cell_type": "code",
   "execution_count": 18,
   "id": "579433ff",
   "metadata": {},
   "outputs": [
    {
     "data": {
      "text/plain": [
       "array([[1, 2, 3, 4],\n",
       "       [5, 6, 7, 8]])"
      ]
     },
     "execution_count": 18,
     "metadata": {},
     "output_type": "execute_result"
    }
   ],
   "source": [
    "arry = np.array([[1,2,3,4],[5,6,7,8]])\n",
    "arry"
   ]
  },
  {
   "cell_type": "code",
   "execution_count": 19,
   "id": "32c0335a",
   "metadata": {},
   "outputs": [
    {
     "data": {
      "text/plain": [
       "1"
      ]
     },
     "execution_count": 19,
     "metadata": {},
     "output_type": "execute_result"
    }
   ],
   "source": [
    "arry[0][0]"
   ]
  },
  {
   "cell_type": "code",
   "execution_count": 23,
   "id": "6bdfc692",
   "metadata": {},
   "outputs": [
    {
     "name": "stdout",
     "output_type": "stream",
     "text": [
      "2\n",
      "(2, 4)\n",
      "<memory at 0x0000013B555D7EE0>\n",
      "8\n",
      "<class 'numpy.ndarray'>\n"
     ]
    }
   ],
   "source": [
    "#Diminsion of array\n",
    "\n",
    "\n",
    "print(arry.ndim)\n",
    "print(arry.shape)\n",
    "print(arry.data) #memoey location where our data is stored\n",
    "print(arry.size) #nomber of elements\n",
    "print(type(arry))"
   ]
  },
  {
   "cell_type": "markdown",
   "id": "f6c35b14",
   "metadata": {},
   "source": [
    "# LAB-1 Random Number Generation Using NumPy"
   ]
  },
  {
   "cell_type": "code",
   "execution_count": 38,
   "id": "4d1cd625",
   "metadata": {},
   "outputs": [
    {
     "data": {
      "text/plain": [
       "569"
      ]
     },
     "execution_count": 38,
     "metadata": {},
     "output_type": "execute_result"
    }
   ],
   "source": [
    "from numpy import random\n",
    "x = random.randint(1000) #to print 3 digit number\n",
    "x"
   ]
  },
  {
   "cell_type": "code",
   "execution_count": 39,
   "id": "e0133429",
   "metadata": {},
   "outputs": [
    {
     "data": {
      "text/plain": [
       "array([0.22066394, 0.6343301 , 0.24162404, 0.38493114, 0.07052753,\n",
       "       0.67510472, 0.09454552, 0.79134229, 0.86251617, 0.83632595])"
      ]
     },
     "execution_count": 39,
     "metadata": {},
     "output_type": "execute_result"
    }
   ],
   "source": [
    "y = random.rand(10)\n",
    "y"
   ]
  },
  {
   "cell_type": "code",
   "execution_count": 40,
   "id": "836d7ead",
   "metadata": {},
   "outputs": [
    {
     "data": {
      "text/plain": [
       "array([65, 38, 20, 98, 95, 42, 89, 98, 24, 70])"
      ]
     },
     "execution_count": 40,
     "metadata": {},
     "output_type": "execute_result"
    }
   ],
   "source": [
    "x = random.randint(100,size=10)\n",
    "x"
   ]
  },
  {
   "cell_type": "code",
   "execution_count": 42,
   "id": "9eefa3d9",
   "metadata": {},
   "outputs": [
    {
     "data": {
      "text/plain": [
       "array([[381, 822, 471],\n",
       "       [268, 792, 858],\n",
       "       [403, 285, 625]])"
      ]
     },
     "execution_count": 42,
     "metadata": {},
     "output_type": "execute_result"
    }
   ],
   "source": [
    "x = random.randint(1000,size=(3,3)) #to generate 3*3 matrix\n",
    "x"
   ]
  },
  {
   "cell_type": "code",
   "execution_count": null,
   "id": "5f9f8a0b",
   "metadata": {},
   "outputs": [],
   "source": []
  }
 ],
 "metadata": {
  "kernelspec": {
   "display_name": "Python 3 (ipykernel)",
   "language": "python",
   "name": "python3"
  },
  "language_info": {
   "codemirror_mode": {
    "name": "ipython",
    "version": 3
   },
   "file_extension": ".py",
   "mimetype": "text/x-python",
   "name": "python",
   "nbconvert_exporter": "python",
   "pygments_lexer": "ipython3",
   "version": "3.9.12"
  }
 },
 "nbformat": 4,
 "nbformat_minor": 5
}
